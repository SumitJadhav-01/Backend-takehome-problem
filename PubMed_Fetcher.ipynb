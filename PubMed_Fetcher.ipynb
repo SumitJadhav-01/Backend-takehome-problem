{
 "cells": [
  {
   "cell_type": "markdown",
   "id": "e5f06cea",
   "metadata": {},
   "source": [
    "# PubMed Paper Fetcher"
   ]
  },
  {
   "cell_type": "markdown",
   "id": "4b644adf",
   "metadata": {},
   "source": [
    "## `Here all Documentation and Code`"
   ]
  },
  {
   "cell_type": "markdown",
   "id": "ce706930",
   "metadata": {},
   "source": [
    "##### `OVERVIEW`"
   ]
  },
  {
   "cell_type": "markdown",
   "id": "9c2056d9",
   "metadata": {},
   "source": [
    "This program consists of two Python scripts, pubmed_fetcher.py and cli.py, designed to fetch research papers from PubMed based on a search query. It retrieves paper details such as authors, affiliations, and publication dates, and saves the data in a CSV file or displays it in the console."
   ]
  },
  {
   "cell_type": "markdown",
   "id": "97f4cb9c",
   "metadata": {},
   "source": [
    "##### `CODE ORGANIZATION`"
   ]
  },
  {
   "cell_type": "markdown",
   "id": "7837ac3f",
   "metadata": {},
   "source": [
    "- 1. File 1: pubmed_fetcher.py"
   ]
  },
  {
   "cell_type": "markdown",
   "id": "dc15f847",
   "metadata": {},
   "source": [
    "This module contains functions for interacting with the PubMed API, processing the fetched data, and saving the results in a structured format."
   ]
  },
  {
   "cell_type": "markdown",
   "id": "372c6a64",
   "metadata": {},
   "source": [
    " `Functions`\n",
    "\n",
    "**1. fetch_ids(query: str) -> List[str]**\n",
    "\n",
    "Purpose: Fetches PubMed IDs (PMIDs) for a given search query.\n",
    "\n",
    "Parameters:query (str): The search query string.\n",
    "\n",
    "Returns: A list of PubMed IDs (List[str]).\n",
    "\n",
    "\n",
    "**2. get_paper_details(ids: List[str]) -> List[Dict[str, Optional[str]]]**\n",
    "\n",
    "Purpose: Fetches detailed information about papers using their PMIDs.\n",
    "\n",
    "Parameters:ids (List[str]): A list of PubMed IDs.\n",
    "\n",
    "Returns: A list of dictionaries containing paper details.\n",
    "\n",
    "\n",
    "**3. parse_xml(xml_data: str) -> List[Dict[str, Optional[str]]]**\n",
    "\n",
    "Purpose: Parses XML data returned by PubMed API to extract paper metadata.\n",
    "\n",
    "Parameters:xml_data (str): XML string containing paper data.\n",
    "\n",
    "Returns: A list of dictionaries with metadata such as title, authors, and affiliations.\n",
    "\n",
    "\n",
    "**4. save_csv(filename: str, papers: List[Dict[str, Optional[str]]]) -> None**\n",
    "\n",
    "Purpose: Saves paper details to a CSV file.\n",
    "\n",
    "Parameters:filename (str): Name of the output CSV file.\n",
    "\n",
    "papers (List[Dict[str, Optional[str]]]): A list of dictionaries containing paper details.\n",
    "\n",
    "\n",
    "\n",
    "\n"
   ]
  },
  {
   "cell_type": "markdown",
   "id": "3c94edc2",
   "metadata": {},
   "source": [
    "- 2. File 2: cli.py\n",
    "\n",
    "\n",
    "This script serves as the command-line interface for interacting with the PubMed Fetcher functionality."
   ]
  },
  {
   "cell_type": "markdown",
   "id": "27ec2659",
   "metadata": {},
   "source": [
    "\n",
    "\n",
    "`Functions`\n",
    "\n",
    "**1. setup_logging(debug: bool) -> None**\n",
    "\n",
    "Purpose: Configures the logging level.\n",
    "\n",
    "Parameters:debug (bool): If True, sets the logging level to DEBUG. Otherwise, sets it to INFO.\n",
    "\n",
    "\n",
    "**2. main() -> None**\n",
    "\n",
    "Purpose: Main entry point for the script. Processes command-line arguments and coordinates data fetching and output.\n",
    "\n",
    "Functionality:\n",
    "\n",
    "Parses command-line arguments (query, output file, and debug mode).\n",
    "\n",
    "Fetches PubMed IDs using the fetch_ids function.\n",
    "\n",
    "Retrieves paper details with the get_paper_details function.\n",
    "\n",
    "Saves results to a file using save_csv or displays them on the console.\n"
   ]
  },
  {
   "cell_type": "markdown",
   "id": "6562b9f5",
   "metadata": {},
   "source": [
    "##### `INSTALLATION AND EXECUTION INSTRUCTIONS`"
   ]
  },
  {
   "cell_type": "markdown",
   "id": "d6597133",
   "metadata": {},
   "source": [
    "To execute the provided Python scripts (pubmed_fetcher.py and cli.py), follow the step-by-step guide below."
   ]
  },
  {
   "cell_type": "markdown",
   "id": "c4506ec3",
   "metadata": {},
   "source": [
    "- 1. Prerequisites"
   ]
  },
  {
   "cell_type": "markdown",
   "id": "65b057a6",
   "metadata": {},
   "source": [
    "Python Installed: Ensure you have Python 3.6 or later installed on your system. You can download it from python.org.\n",
    "\n",
    "Pip Installed: Pip usually comes with Python. You can verify by running:"
   ]
  },
  {
   "cell_type": "code",
   "execution_count": null,
   "id": "15710477",
   "metadata": {},
   "outputs": [],
   "source": [
    "pip --version"
   ]
  },
  {
   "cell_type": "markdown",
   "id": "b64df3bc",
   "metadata": {},
   "source": [
    "Internet Connection: Required for fetching data from PubMed."
   ]
  },
  {
   "cell_type": "markdown",
   "id": "14cbc058",
   "metadata": {},
   "source": [
    "- 2. Setting Up the Project"
   ]
  },
  {
   "cell_type": "markdown",
   "id": "675db1ef",
   "metadata": {},
   "source": [
    "1. Clone the Repository\n",
    "\n",
    " git clone https://github.com/your-username/pubmed-fetcher.git\n",
    " \n",
    "cd pubmed-fetcher\n"
   ]
  },
  {
   "cell_type": "markdown",
   "id": "809e94e2",
   "metadata": {},
   "source": [
    "- 3. Install Required Python Packages"
   ]
  },
  {
   "cell_type": "markdown",
   "id": "179aed10",
   "metadata": {},
   "source": [
    "The scripts rely on the requests library for making HTTP requests. Install it using pip:"
   ]
  },
  {
   "cell_type": "code",
   "execution_count": null,
   "id": "bba12c34",
   "metadata": {},
   "outputs": [],
   "source": [
    "pip install requests"
   ]
  },
  {
   "cell_type": "markdown",
   "id": "5e8d0c5a",
   "metadata": {},
   "source": [
    "If you plan to manage dependencies more robustly, consider using a virtual environment:"
   ]
  },
  {
   "cell_type": "code",
   "execution_count": null,
   "id": "e417b93f",
   "metadata": {},
   "outputs": [],
   "source": [
    "#Create a virtual environment\n",
    "python -m venv venv\n",
    "\n",
    "#Activate the virtual environment\n",
    "\n",
    "#On Windows:\n",
    "venv\\Scripts\\activate\n",
    "\n",
    "#On macOS/Linux:\n",
    "source venv/bin/activate\n",
    "\n",
    "#Install dependencies within the virtual environment\n",
    "pip install requests"
   ]
  },
  {
   "cell_type": "markdown",
   "id": "5322e3d1",
   "metadata": {},
   "source": [
    "- 4. Executing the Scripts"
   ]
  },
  {
   "cell_type": "markdown",
   "id": "b3af50d8",
   "metadata": {},
   "source": [
    "The cli.py script is the main entry point that utilizes functions from pubmed_fetcher.py to fetch and display or save PubMed articles based on a search query."
   ]
  },
  {
   "cell_type": "markdown",
   "id": "6a263412",
   "metadata": {},
   "source": [
    "*a. Basic Usage*"
   ]
  },
  {
   "cell_type": "markdown",
   "id": "ec024dbb",
   "metadata": {},
   "source": [
    "To fetch papers related to a specific query and display them in the console:\n",
    "\n",
    " \n",
    "python cli.py \"your search query\"\n",
    "\n",
    "Example:\n",
    " \n",
    "python cli.py \"cancer research\""
   ]
  },
  {
   "cell_type": "markdown",
   "id": "bf70be74",
   "metadata": {},
   "source": [
    "*b. Saving Results to a CSV File*"
   ]
  },
  {
   "cell_type": "markdown",
   "id": "f903d6e6",
   "metadata": {},
   "source": [
    "To save the fetched papers to a CSV file, use the -f or --file option followed by the desired filename.\n",
    "\n",
    " \n",
    "python cli.py \"your search query\" -f results.csv\n",
    "\n",
    "Example:\n",
    " \n",
    "python cli.py \"machine learning in healthcare\" -f ml_healthcare_papers.csv"
   ]
  },
  {
   "cell_type": "markdown",
   "id": "b0966dc3",
   "metadata": {},
   "source": [
    "*c. Enabling Debug Mode*"
   ]
  },
  {
   "cell_type": "markdown",
   "id": "5b0666a3",
   "metadata": {},
   "source": [
    "For more detailed logging (useful for troubleshooting), enable debug mode with the -d or --debug flag.\n",
    "\n",
    " \n",
    "python cli.py \"your search query\" -d\n",
    "\n",
    "Example:\n",
    " \n",
    "python cli.py \"genomics\" -d"
   ]
  },
  {
   "cell_type": "markdown",
   "id": "b0c123f8",
   "metadata": {},
   "source": [
    "*d. Combining Options*"
   ]
  },
  {
   "cell_type": "markdown",
   "id": "4b09d0ae",
   "metadata": {},
   "source": [
    "You can combine options to save results to a file and enable debug mode simultaneously.\n",
    "\n",
    " \n",
    "python cli.py \"your search query\" -f output.csv -d\n",
    "\n",
    "Example:\n",
    "\n",
    " \n",
    "python cli.py \"CRISPR technology\" -f crispr_papers.csv -d"
   ]
  },
  {
   "cell_type": "markdown",
   "id": "10bf897a",
   "metadata": {},
   "source": [
    "*e. Full Command Syntax*"
   ]
  },
  {
   "cell_type": "markdown",
   "id": "6b583d58",
   "metadata": {},
   "source": [
    "python cli.py query [-f FILE] [-d]\n",
    "\n",
    "query: (Required) The search term for PubMed.\n",
    "\n",
    "-f, --file: (Optional) Specify the filename to save the results as a CSV.\n",
    "\n",
    "-d, --debug: (Optional) Enable debug mode for detailed logs."
   ]
  },
  {
   "cell_type": "markdown",
   "id": "a341ab55",
   "metadata": {},
   "source": [
    "- 5. Example Workflow"
   ]
  },
  {
   "cell_type": "markdown",
   "id": "4bc93e34",
   "metadata": {},
   "source": [
    "Let's go through a complete example where we search for papers related to \"artificial intelligence in medicine\" and save the results to a file named ai_medicine_papers.csv with debug logging enabled."
   ]
  },
  {
   "cell_type": "markdown",
   "id": "83c47aad",
   "metadata": {},
   "source": [
    "*a. Run the Command*"
   ]
  },
  {
   "cell_type": "markdown",
   "id": "eb481cbf",
   "metadata": {},
   "source": [
    "python cli.py \"artificial intelligence in medicine\" -f ai_medicine_papers.csv -d\n"
   ]
  },
  {
   "cell_type": "markdown",
   "id": "c63f4564",
   "metadata": {},
   "source": [
    "*b. Expected Output*"
   ]
  },
  {
   "cell_type": "markdown",
   "id": "bce82760",
   "metadata": {},
   "source": [
    "Console Output: Detailed logs due to debug mode, including information about fetching IDs and paper details.\n",
    "\n",
    "CSV File: A file named ai_medicine_papers.csv will be created in the project directory containing the fetched paper details with the following columns:\n",
    "\n",
    "PMID\n",
    "Title\n",
    "Date\n",
    "Authors\n",
    "Companies\n",
    "Email"
   ]
  },
  {
   "cell_type": "markdown",
   "id": "2af57d46",
   "metadata": {},
   "source": [
    "*c. Viewing the Results*"
   ]
  },
  {
   "cell_type": "markdown",
   "id": "eca3d74e",
   "metadata": {},
   "source": [
    "Open the ai_medicine_papers.csv file using any spreadsheet application (e.g., Microsoft Excel, Google Sheets) or a text editor to view the fetched PubMed articles."
   ]
  },
  {
   "cell_type": "markdown",
   "id": "6bd0fea4",
   "metadata": {},
   "source": [
    "- 6. Troubleshooting"
   ]
  },
  {
   "cell_type": "markdown",
   "id": "76bcc229",
   "metadata": {},
   "source": [
    "Module Not Found Error: Ensure both pubmed_fetcher.py and cli.py are in the same directory. Also, verify that you're running the command from within that directory.\n",
    "\n",
    "Missing Dependencies: If you encounter issues related to missing Python packages, ensure you've installed all required packages using pip.\n",
    "\n",
    "Network Issues: Since the scripts fetch data from the internet, ensure you have a stable internet connection. Also, check if your firewall or network settings are blocking HTTP requests to PubMed's API.\n",
    "\n",
    "Invalid Query Results: If no papers are found, try refining your search query for better results."
   ]
  },
  {
   "cell_type": "markdown",
   "id": "2555b78a",
   "metadata": {},
   "source": [
    "##### `Tools and Libraries Used`"
   ]
  },
  {
   "cell_type": "markdown",
   "id": "de3e7a88",
   "metadata": {},
   "source": [
    "1. Requests Library\n",
    "\n",
    "Purpose: requests is a popular Python library used for making HTTP requests. In this program, it is used to interact with the PubMed API to fetch PubMed IDs and retrieve detailed information about research papers.\n",
    "\n",
    "2. Argparse Library\n",
    "\n",
    "Purpose: argparse is a built-in Python library for parsing command-line arguments, enabling the user to run the program with custom parameters. In this project, it allows the user to specify the PubMed search query and control other options like file saving and debug mode.\n",
    "\n",
    "Documentation: https://docs.python.org/3/library/argparse.html\n",
    "\n",
    "3.XML Parsing with xml.etree.ElementTree\n",
    "\n",
    "Purpose: xml.etree.ElementTree is a built-in Python module for parsing and manipulating XML data. This library is used in the project to parse XML responses from PubMed and extract relevant information like authors, affiliations, and publication dates.\n",
    "\n",
    "Documentation: https://docs.python.org/3/library/xml.etree.elementtree.html\n",
    "\n",
    "4. Logging\n",
    "\n",
    "Purpose: The built-in Python logging module is used to log messages, providing insight into the program’s execution. It is helpful for debugging, tracking the flow of the program, and diagnosing issues.\n",
    "\n",
    "Documentation: https://docs.python.org/3/library/logging.html\n",
    "\n",
    "5. CSV Module\n",
    "\n",
    "Purpose: The built-in csv module is used for reading from and writing to CSV files. In this project, it's used to save the fetched PubMed paper details into a CSV file format\n",
    "\n",
    "Documentation: https://docs.python.org/3/library/csv.html\n",
    "\n",
    "\n",
    "6. Regular Expressions with re\n",
    "\n",
    "Purpose: The re module provides support for working with regular expressions. It is used in the project to filter out university or institute affiliations from the list of authors' affiliations.\n",
    "\n",
    "Documentation: https://docs.python.org/3/library/re.html\n",
    "\n",
    "7. Type Hinting\n",
    "\n",
    "Purpose: Type hinting is used throughout the code to indicate expected data types for function parameters and return values, improving readability, maintainability, and enabling type checking tools.\n",
    "\n",
    "Documentation: https://docs.python.org/3/library/typing.html\n",
    "\n",
    "\n",
    "8. Virtual Environments\n",
    "\n",
    "Purpose: Virtual environments allow the program to run with a controlled set of dependencies, isolated from other Python projects. This is particularly important for avoiding version conflicts between libraries.\n",
    "\n",
    "Documentation: https://docs.python.org/3/library/venv.html\n",
    "\n"
   ]
  },
  {
   "cell_type": "markdown",
   "id": "f8c1697d",
   "metadata": {},
   "source": [
    "### `code explanation of 2 files`"
   ]
  },
  {
   "cell_type": "markdown",
   "id": "fe2c4cff",
   "metadata": {},
   "source": [
    "\n",
    "This notebook demonstrates how to fetch research papers from PubMed using their API.\n",
    "It is divided into two main parts:\n",
    "\n",
    "1. `pubmed_fetcher.py`: This module fetches PubMed IDs, retrieves paper details, and saves them into a CSV file.\n",
    "2. `cli.py`: This is the command-line interface for interacting with the `pubmed_fetcher.py` module, allowing users to fetch papers via a query and save them into a CSV file.\n",
    "\n",
    " The workflow includes fetching PubMed IDs based on a search query, retrieving detailed information about the papers, and parsing their metadata such as title, authors, date, and affiliations. Additionally, the data can be saved in CSV format\n"
   ]
  },
  {
   "cell_type": "markdown",
   "id": "41dd234f",
   "metadata": {},
   "source": [
    "\n",
    "### `pubmed_fetcher.py`\n",
    "\n",
    "This module contains functions that interact with the PubMed API to:\n",
    "\n",
    "1. **Fetch PubMed IDs**: The `fetch_ids()` function takes a search query and retrieves a list of PubMed IDs.\n",
    "2. **Get Paper Details**: The `get_paper_details()` function fetches detailed paper information for the list of PubMed IDs, such as title, authors, publication date, and email.\n",
    "3. **Parse XML Response**: The `parse_xml()` function processes XML data from PubMed to extract the relevant information.\n",
    "4. **Save to CSV**: The `save_csv()` function saves the fetched paper details into a CSV file for further analysis or export.\n",
    "\n",
    "The module uses **requests** for API calls and **xml.etree.ElementTree** for XML parsing.\n"
   ]
  },
  {
   "cell_type": "markdown",
   "id": "62c7253d",
   "metadata": {},
   "source": [
    "This file interacts with PubMed’s API, fetches data about research papers, parses the data, and saves the results into a CSV."
   ]
  },
  {
   "cell_type": "markdown",
   "id": "97c3c781",
   "metadata": {},
   "source": [
    "Import Statements\n"
   ]
  },
  {
   "cell_type": "code",
   "execution_count": null,
   "id": "8e05b926",
   "metadata": {},
   "outputs": [],
   "source": [
    "\n",
    "import requests \n",
    "import csv\n",
    "import re\n",
    "import xml.etree.ElementTree as ET\n",
    "from typing import List, Dict, Optional         "
   ]
  },
  {
   "cell_type": "markdown",
   "id": "0e5114df",
   "metadata": {},
   "source": [
    "import requests: Imports the requests library, which allows you to send HTTP requests (like GET or POST requests) to access external APIs like PubMed’s API.\n",
    "\n",
    "import csv: Imports the csv module, which is used to read and write CSV (Comma Separated Values) files. It allows saving paper data into a .csv file.\n",
    "\n",
    "import re: Imports the re module, which is used to work with regular expressions for pattern matching and text searching. In this code, it helps filter out university or institute affiliations.\n",
    "\n",
    "import xml.etree.ElementTree as ET: Imports ElementTree, which is used to parse XML data. PubMed’s API returns paper details in XML format, so we need this library to handle the XML and extract relevant information.\n",
    "\n",
    "from typing import List, Dict, Optional: These are type hints from the typing module. List, Dict, and Optional are used to specify what type of data the functions will use. This makes the code more readable and helps avoid mistakes."
   ]
  },
  {
   "cell_type": "markdown",
   "id": "196de928",
   "metadata": {},
   "source": [
    "fetch_ids Function\n"
   ]
  },
  {
   "cell_type": "code",
   "execution_count": null,
   "id": "2357988d",
   "metadata": {},
   "outputs": [],
   "source": [
    "\n",
    "\"\"\"Fetch PubMed IDs for a given query.\"\"\"\n",
    "def fetch_ids(query: str) -> List[str]:\n",
    "    base_url = \"https://eutils.ncbi.nlm.nih.gov/entrez/eutils/esearch.fcgi\"\n",
    "    params = {\n",
    "        \"db\": \"pubmed\",\n",
    "        \"term\": query,\n",
    "        \"retmode\": \"json\",\n",
    "    }"
   ]
  },
  {
   "cell_type": "markdown",
   "id": "1fe92399",
   "metadata": {},
   "source": [
    "def fetch_ids(query: str) -> List[str]:: This defines a function called fetch_ids, which takes one argument, query (a string). The function returns a list of strings (PubMed IDs).\n",
    "\n",
    "base_url = \"https://eutils.ncbi.nlm.nih.gov/entrez/eutils/esearch.fcgi\": This sets the base URL for the PubMed search API.\n",
    "\n",
    "params = {...}: This dictionary holds the parameters for the API request.\n",
    "\n",
    "\"db\": \"pubmed\": Tells the API to search the PubMed database.\n",
    "\n",
    "\"term\": query: This is the search term (query) that the user provides.\n",
    "\n",
    "\"retmode\": \"json\": Requests the results in JSON format."
   ]
  },
  {
   "cell_type": "code",
   "execution_count": null,
   "id": "c6332642",
   "metadata": {},
   "outputs": [],
   "source": [
    "try:\n",
    "    response = requests.get(base_url, params=params, timeout=10)\n",
    "    response.raise_for_status()\n",
    "    data = response.json()\n",
    "    return data[\"esearchresult\"][\"idlist\"]\n",
    "except requests.RequestException as e:\n",
    "    print(f\"Error fetching PubMed IDs: {e}\")\n",
    "    return []\n"
   ]
  },
  {
   "cell_type": "markdown",
   "id": "ec8f0f06",
   "metadata": {},
   "source": [
    "try:: This begins a try block that will attempt to make a request to the PubMed API.\n",
    "\n",
    "response = requests.get(base_url, params=params, timeout=10): This sends a GET request to PubMed’s API with the specified parameters. timeout=10 ensures the request doesn’t hang for more than 10 seconds.\n",
    "\n",
    "response.raise_for_status(): This checks if the response was successful (status code 200). If not, it raises an exception.\n",
    "\n",
    "data = response.json(): This converts the JSON response to a Python dictionary.\n",
    "\n",
    "return data[\"esearchresult\"][\"idlist\"]: Extracts the list of PubMed IDs (idlist) from the JSON data and returns it.\n",
    "\n",
    "except requests.RequestException as e:: If any error occurs (like a network failure), it’s caught here.\n",
    "\n",
    "print(f\"Error fetching PubMed IDs: {e}\"): Prints an error message.\n",
    "\n",
    "return []: If there’s an error, the function returns an empty list."
   ]
  },
  {
   "cell_type": "markdown",
   "id": "18431dc1",
   "metadata": {},
   "source": [
    "get_paper_details Function"
   ]
  },
  {
   "cell_type": "code",
   "execution_count": null,
   "id": "b07ffdb4",
   "metadata": {},
   "outputs": [],
   "source": [
    "\"\"\"Fetch detailed information about papers from PubMed.\"\"\"\n",
    "\n",
    "def get_paper_details(ids: List[str]) -> List[Dict[str, Optional[str]]]:\n",
    "    details_url = \"https://eutils.ncbi.nlm.nih.gov/entrez/eutils/efetch.fcgi\"\n",
    "    if not ids:\n",
    "        return []\n"
   ]
  },
  {
   "cell_type": "markdown",
   "id": "3d94483f",
   "metadata": {},
   "source": [
    "def get_paper_details(ids: List[str]) -> List[Dict[str, Optional[str]]]:: Defines the function get_paper_details, which takes a list of PubMed IDs and returns a list of dictionaries. Each dictionary will hold details about a paper.\n",
    "\n",
    "details_url = \"https://eutils.ncbi.nlm.nih.gov/entrez/eutils/efetch.fcgi\": This is the base URL for fetching detailed information about papers.\n",
    "\n",
    "if not ids:: Checks if the ids list is empty. If it is, the function returns an empty list because there’s no data to fetch."
   ]
  },
  {
   "cell_type": "code",
   "execution_count": null,
   "id": "ec717e69",
   "metadata": {},
   "outputs": [],
   "source": [
    "ids_str = \",\".join(ids)\n",
    "params = {\n",
    "        \"db\": \"pubmed\",\n",
    "        \"id\": ids_str,\n",
    "        \"retmode\": \"xml\",\n",
    "    }\n"
   ]
  },
  {
   "cell_type": "markdown",
   "id": "e07f201b",
   "metadata": {},
   "source": [
    "def get_paper_details(ids: List[str]) -> List[Dict[str, Optional[str]]]:: Defines the function get_paper_details, which takes a list of PubMed IDs and returns a list of dictionaries. Each dictionary will hold details about a paper.\n",
    "\n",
    "details_url = \"https://eutils.ncbi.nlm.nih.gov/entrez/eutils/efetch.fcgi\": This is the base URL for fetching detailed information about papers.\n",
    "\n",
    "if not ids:: Checks if the ids list is empty. If it is, the function returns an empty list because there’s no data to fetch."
   ]
  },
  {
   "cell_type": "code",
   "execution_count": null,
   "id": "e32b974c",
   "metadata": {},
   "outputs": [],
   "source": [
    "try:\n",
    "    response = requests.get(details_url, params=params, timeout=10)\n",
    "    response.raise_for_status()\n",
    "    return parse_xml(response.text)\n",
    "except requests.RequestException as e:\n",
    "    print(f\"Error fetching paper details: {e}\")\n",
    "    return []\n"
   ]
  },
  {
   "cell_type": "markdown",
   "id": "8dcb9d6c",
   "metadata": {},
   "source": [
    " response = requests.get(details_url, params=params, timeout=10): Sends the GET request to fetch the paper details.\n",
    " \n",
    "response.raise_for_status(): Raises an error if the response is not successful.\n",
    "\n",
    "return parse_xml(response.text): Passes the raw XML response to the parse_xml function for processing.\n",
    "\n",
    "except requests.RequestException as e:: Catches any exceptions and prints an error message.\n",
    "\n",
    "return []: Returns an empty list if there was an error."
   ]
  },
  {
   "cell_type": "markdown",
   "id": "f86e61f2",
   "metadata": {},
   "source": [
    "parse_xml Function"
   ]
  },
  {
   "cell_type": "code",
   "execution_count": null,
   "id": "099ecfa3",
   "metadata": {},
   "outputs": [],
   "source": [
    "\"\"\"Parse XML data from PubMed and extract paper details.\"\"\"\n",
    "\n",
    "def parse_xml(xml_data: str) -> List[Dict[str, Optional[str]]]:\n",
    "    root = ET.fromstring(xml_data)\n",
    "    papers = []\n"
   ]
  },
  {
   "cell_type": "markdown",
   "id": "ffecd24f",
   "metadata": {},
   "source": [
    "def parse_xml(xml_data: str) -> List[Dict[str, Optional[str]]]:: Defines the function parse_xml, which takes XML data as input and returns a list of dictionaries (one dictionary per paper).\n",
    "\n",
    "root = ET.fromstring(xml_data): Parses the XML data and returns the root of the XML tree.\n",
    "\n",
    "papers = []: Initializes an empty list to store the paper details."
   ]
  },
  {
   "cell_type": "code",
   "execution_count": null,
   "id": "53d6a184",
   "metadata": {},
   "outputs": [],
   "source": [
    "for article in root.findall(\".//PubmedArticle\"):\n",
    "        paper: Dict[str, Optional[str]] = {}\n",
    "        paper[\"PMID\"] = article.findtext(\".//PMID\")\n",
    "        paper[\"Title\"] = article.findtext(\".//ArticleTitle\")\n",
    "        paper[\"Date\"] = None\n",
    "        paper[\"Authors\"] = []\n",
    "        paper[\"Companies\"] = []\n",
    "        paper[\"Email\"] = None\n"
   ]
  },
  {
   "cell_type": "markdown",
   "id": "dcb81e5e",
   "metadata": {},
   "source": [
    "for article in root.findall(\".//PubmedArticle\"):: Loops through all the <PubmedArticle> elements in the XML data.\n",
    "\n",
    "paper: Dict[str, Optional[str]] = {}: Initializes a dictionary for storing the details of a paper.\n",
    "\n",
    "paper[\"PMID\"] = article.findtext(\".//PMID\"): Extracts the PubMed ID (PMID) from the XML element and stores it in the dictionary.\n",
    "\n",
    "paper[\"Title\"] = article.findtext(\".//ArticleTitle\"): Extracts the title of the paper.\n",
    "\n",
    "paper[\"Date\"] = None, paper[\"Authors\"] = [], paper[\"Companies\"] = [], paper[\"Email\"] = None: Initializes placeholders for other paper details."
   ]
  },
  {
   "cell_type": "code",
   "execution_count": null,
   "id": "d8c1cc0e",
   "metadata": {},
   "outputs": [],
   "source": [
    "        # Extract publication date\n",
    "\n",
    "date = article.find(\".//PubDate\")\n",
    "if date is not None:\n",
    "    year = date.findtext(\"Year\")\n",
    "    month = date.findtext(\"Month\")\n",
    "    day = date.findtext(\"Day\")\n",
    "    if year and month and day:\n",
    "        paper[\"Date\"] = f\"{year}-{month}-{day}\"\n"
   ]
  },
  {
   "cell_type": "markdown",
   "id": "5a412068",
   "metadata": {},
   "source": [
    "date = article.find(\".//PubDate\"): Finds the <PubDate> element in the article.\n",
    "\n",
    "if date is not None:: Checks if the <PubDate> element is found.\n",
    "\n",
    "year, month, day: Extracts the publication year, month, and day.\n",
    "\n",
    "paper[\"Date\"] = f\"{year}-{month}-{day}\": If all parts of the date are available, it formats them as YYYY-MM-DD."
   ]
  },
  {
   "cell_type": "code",
   "execution_count": null,
   "id": "83a8bb19",
   "metadata": {},
   "outputs": [],
   "source": [
    "        # Extract authors and affiliations\n",
    "\n",
    "authors = article.findall(\".//Author\")\n",
    "for author in authors:\n",
    "    affiliation = author.findtext(\"AffiliationInfo/Affiliation\")\n",
    "    if affiliation and not re.search(r\"university|institute\", affiliation, re.IGNORECASE):\n",
    "        paper[\"Authors\"].append(author.findtext(\"LastName\"))\n",
    "        paper[\"Companies\"].append(affiliation)\n"
   ]
  },
  {
   "cell_type": "markdown",
   "id": "49ce9498",
   "metadata": {},
   "source": [
    "authors = article.findall(\".//Author\"): Finds all <Author> elements in the article.\n",
    "\n",
    "for author in authors:: Loops through each author.\n",
    "\n",
    "affiliation = author.findtext(\"AffiliationInfo/Affiliation\"): Extracts the author's affiliation (e.g., university or company).\n",
    "\n",
    "if affiliation and not re.search(r\"university|institute\", affiliation, re.IGNORECASE):: Checks if the affiliation is not a university or institute (using a regular expression).\n",
    "paper[\"Authors\"].append(author.findtext(\"LastName\")): Adds the author's last name to the Authors list.\n",
    "\n",
    "paper[\"Companies\"].append(affiliation): Adds the affiliation to the Companies list."
   ]
  },
  {
   "cell_type": "code",
   "execution_count": null,
   "id": "8900d80b",
   "metadata": {},
   "outputs": [],
   "source": [
    "        # Extract corresponding author email\n",
    "\n",
    "corresponding = article.find(\".//Author[CorrespondingAuthor='Y']\")\n",
    "if corresponding is not None:\n",
    "    email = corresponding.findtext(\"AffiliationInfo/AuthorEmail\")\n",
    "    if email:\n",
    "        paper[\"Email\"] = email\n"
   ]
  },
  {
   "cell_type": "markdown",
   "id": "29c90d36",
   "metadata": {},
   "source": [
    "corresponding = article.find(\".//Author[CorrespondingAuthor='Y']\"): Finds the corresponding author (the one marked with CorrespondingAuthor=\"Y\").\n",
    "\n",
    "if corresponding is not None:: Checks if a corresponding author is found.\n",
    "\n",
    "email = corresponding.findtext(\"AffiliationInfo/AuthorEmail\"): Extracts the email of the corresponding author.\n",
    "\n",
    "if email:: If an email is found, it adds the email to the dictionary."
   ]
  },
  {
   "cell_type": "code",
   "execution_count": null,
   "id": "aaf39b7c",
   "metadata": {},
   "outputs": [],
   "source": [
    "papers.append(paper)\n",
    "\n",
    "return papers\n"
   ]
  },
  {
   "cell_type": "markdown",
   "id": "a3d6b82d",
   "metadata": {},
   "source": [
    "papers.append(paper): Adds the paper’s details to the papers list.\n",
    "\n",
    "return papers: Returns the list of all papers' details."
   ]
  },
  {
   "cell_type": "markdown",
   "id": "f1ec8472",
   "metadata": {},
   "source": [
    "\n",
    "### `cli.py`\n",
    "\n",
    "This script serves as the command-line interface for interacting with the `pubmed_fetcher.py` module. It handles the following tasks:\n",
    "\n",
    "1. **Argument Parsing**: Using `argparse`, the script accepts a search query (`query`), an optional output file name (`--file`), and a debug flag (`--debug`).\n",
    "2. **Logging**: The `setup_logging()` function configures logging to display debug or informational messages.\n",
    "3. **Fetch and Display Results**: The `main()` function fetches PubMed IDs using the `fetch_ids()` function, retrieves detailed information about the papers using `get_paper_details()`, and prints or saves the results.\n",
    "\n",
    "The script is designed to be executed from the command line with various options for flexibility.\n",
    "This script handles user input from the command line, invokes functions from pubmed_fetcher.py, and displays or saves the results.\n"
   ]
  },
  {
   "cell_type": "markdown",
   "id": "71018fc0",
   "metadata": {},
   "source": [
    "Import Statements"
   ]
  },
  {
   "cell_type": "code",
   "execution_count": null,
   "id": "65694597",
   "metadata": {},
   "outputs": [],
   "source": [
    "import argparse \n",
    "import logging\n",
    "from pubmed_fetcher import fetch_ids, get_paper_details, save_csv\n",
    "from typing import Optional\n"
   ]
  },
  {
   "cell_type": "markdown",
   "id": "6ff7eb22",
   "metadata": {},
   "source": [
    "import argparse: Imports the argparse module, which allows us to handle command-line arguments.\n",
    "\n",
    "import logging: Imports the logging module, which helps with debugging and printing log messages.\n",
    "\n",
    "from pubmed_fetcher import ...: Imports the functions from pubmed_fetcher.py.\n",
    "\n",
    "from typing import Optional: Imports the Optional type hint from typing to indicate that a value might be None."
   ]
  },
  {
   "cell_type": "markdown",
   "id": "e8ec0733",
   "metadata": {},
   "source": [
    "setup_logging Function"
   ]
  },
  {
   "cell_type": "code",
   "execution_count": null,
   "id": "dc04d795",
   "metadata": {},
   "outputs": [],
   "source": [
    "def setup_logging(debug: bool) -> None:\n",
    "    if debug:\n",
    "        logging.basicConfig(level=logging.DEBUG)\n",
    "    else:\n",
    "        logging.basicConfig(level=logging.INFO)\n"
   ]
  },
  {
   "cell_type": "markdown",
   "id": "60ffd047",
   "metadata": {},
   "source": [
    "def setup_logging(debug: bool) -> None:: Defines the function setup_logging, which sets up logging based on whether debugging is enabled.\n",
    "\n",
    "logging.basicConfig(level=logging.DEBUG): Sets the logging level to DEBUG if debugging is enabled. This provides detailed information about what the code is doing.\n",
    "\n",
    "logging.basicConfig(level=logging.INFO): If debugging is not enabled, it logs at the INFO level, which provides less verbose information."
   ]
  },
  {
   "cell_type": "markdown",
   "id": "73647a67",
   "metadata": {},
   "source": [
    "main Function\n"
   ]
  },
  {
   "cell_type": "code",
   "execution_count": null,
   "id": "eab3dc00",
   "metadata": {},
   "outputs": [],
   "source": [
    "def main() -> None:\n",
    "    parser = argparse.ArgumentParser(description=\"Fetch papers from PubMed based on a query.\")\n",
    "    parser.add_argument(\"query\", type=str, help=\"PubMed search query\")\n",
    "    parser.add_argument(\"-f\", \"--file\", type=str, help=\"File to save results\", default=None)\n",
    "    parser.add_argument(\"-d\", \"--debug\", action=\"store_true\", help=\"Enable debug mode\")\n",
    "    args = parser.parse_args()\n"
   ]
  },
  {
   "cell_type": "markdown",
   "id": "15daf989",
   "metadata": {},
   "source": [
    "def main() -> None:: Defines the main function, which will run the core logic of the script.\n",
    "\n",
    "parser = argparse.ArgumentParser(description=\"...\"): Initializes an argument parser that will handle command-line arguments.\n",
    "\n",
    "parser.add_argument(\"query\", ...): Defines the required positional argument query (the search term for PubMed).\n",
    "\n",
    "parser.add_argument(\"-f\", \"--file\", ...): Defines the optional argument -f (file to save results)\n",
    ".\n",
    "parser.add_argument(\"-d\", \"--debug\", ...): Defines the optional argument -d (enables debug mode).\n",
    "\n",
    "args = parser.parse_args(): Parses the arguments provided by the user when running the script."
   ]
  },
  {
   "cell_type": "code",
   "execution_count": null,
   "id": "4c282f30",
   "metadata": {},
   "outputs": [],
   "source": [
    "if not args.query:\n",
    "    print(\"Error: Query is missing!\")\n",
    "    return\n"
   ]
  },
  {
   "cell_type": "markdown",
   "id": "b4c8de5e",
   "metadata": {},
   "source": [
    "if not args.query:: Checks if the query argument was provided. If not, it prints an error message and stops the program."
   ]
  },
  {
   "cell_type": "code",
   "execution_count": null,
   "id": "cd7b9b69",
   "metadata": {},
   "outputs": [],
   "source": [
    "setup_logging(args.debug)\n",
    "logging.debug(f\"Fetching papers for query: {args.query}\")\n"
   ]
  },
  {
   "cell_type": "markdown",
   "id": "b5987194",
   "metadata": {},
   "source": [
    "setup_logging(args.debug): Calls the setup_logging function to configure logging based on the debug flag.\n",
    "\n",
    "logging.debug(...): Logs a debug message showing the search query."
   ]
  },
  {
   "cell_type": "code",
   "execution_count": null,
   "id": "dc2c0d94",
   "metadata": {},
   "outputs": [],
   "source": [
    "pubmed_ids = fetch_ids(args.query)\n",
    "if len(pubmed_ids) == 0:\n",
    "    print(\"No papers found.\")\n",
    "    return\n"
   ]
  },
  {
   "cell_type": "markdown",
   "id": "1bb8f5c9",
   "metadata": {},
   "source": [
    "pubmed_ids = fetch_ids(args.query): Calls fetch_ids to get the PubMed IDs for the query.\n",
    "\n",
    "if len(pubmed_ids) == 0:: Checks if no IDs were returned. If there are no results, it prints a message and stops."
   ]
  },
  {
   "cell_type": "code",
   "execution_count": null,
   "id": "022c699b",
   "metadata": {},
   "outputs": [],
   "source": [
    "papers = get_paper_details(pubmed_ids)\n"
   ]
  },
  {
   "cell_type": "markdown",
   "id": "91debcd3",
   "metadata": {},
   "source": [
    "papers = get_paper_details(pubmed_ids): Calls get_paper_details to fetch the details for the papers based on the PubMed IDs."
   ]
  },
  {
   "cell_type": "code",
   "execution_count": null,
   "id": "5041ed65",
   "metadata": {},
   "outputs": [],
   "source": [
    "if args.file:\n",
    "        save_csv(args.file, papers)\n",
    "        print(f\"Results saved in {args.file}\")\n",
    "else:\n",
    "        for paper in papers:\n",
    "            print(paper)\n"
   ]
  },
  {
   "cell_type": "markdown",
   "id": "dddae78d",
   "metadata": {},
   "source": [
    "if args.file:: Checks if the -f argument was provided (i.e., whether to save the results to a file).\n",
    "\n",
    "save_csv(args.file, papers): Saves the papers to a CSV file if a filename is given.\n",
    "\n",
    "else:: If no filename is provided, it prints each paper's details to the console."
   ]
  },
  {
   "cell_type": "code",
   "execution_count": null,
   "id": "03615e50",
   "metadata": {},
   "outputs": [],
   "source": [
    "if __name__ == \"__main__\":\n",
    "    main()\n"
   ]
  },
  {
   "cell_type": "markdown",
   "id": "6e9405ba",
   "metadata": {},
   "source": [
    "if __name__ == \"__main__\":: Ensures the main function is called when the script is executed directly (not when imported as a module)."
   ]
  },
  {
   "cell_type": "markdown",
   "id": "a1c00551",
   "metadata": {},
   "source": [
    "##### `All Code`"
   ]
  },
  {
   "cell_type": "markdown",
   "id": "b758b8b3",
   "metadata": {},
   "source": [
    "pubmed_fetcher.py\n"
   ]
  },
  {
   "cell_type": "code",
   "execution_count": null,
   "id": "3c82e130",
   "metadata": {},
   "outputs": [],
   "source": [
    "import requests\n",
    "import csv\n",
    "import re\n",
    "import xml.etree.ElementTree as ET\n",
    "from typing import List, Dict, Optional\n",
    "\n",
    "\"\"\"Fetch PubMed IDs for a given query.\"\"\"\n",
    "def fetch_ids(query: str) -> List[str]:\n",
    "    base_url = \"https://eutils.ncbi.nlm.nih.gov/entrez/eutils/esearch.fcgi\"\n",
    "    params = {\n",
    "        \"db\": \"pubmed\",\n",
    "        \"term\": query,\n",
    "        \"retmode\": \"json\",\n",
    "    }\n",
    "    try:\n",
    "        response = requests.get(base_url, params=params, timeout=10)\n",
    "        response.raise_for_status()\n",
    "        data = response.json()\n",
    "        return data[\"esearchresult\"][\"idlist\"]\n",
    "    except requests.RequestException as e:\n",
    "        print(f\"Error fetching PubMed IDs: {e}\")\n",
    "        return []\n",
    "\n",
    "\"\"\"Fetch detailed information about papers from PubMed.\"\"\"\n",
    "def get_paper_details(ids: List[str]) -> List[Dict[str, Optional[str]]]:\n",
    "    details_url = \"https://eutils.ncbi.nlm.nih.gov/entrez/eutils/efetch.fcgi\"\n",
    "    if not ids:\n",
    "        return []\n",
    "\n",
    "    ids_str = \",\".join(ids)\n",
    "    params = {\n",
    "        \"db\": \"pubmed\",\n",
    "        \"id\": ids_str,\n",
    "        \"retmode\": \"xml\",\n",
    "    }\n",
    "    try:\n",
    "        response = requests.get(details_url, params=params, timeout=10)\n",
    "        response.raise_for_status()\n",
    "        return parse_xml(response.text)\n",
    "    except requests.RequestException as e:\n",
    "        print(f\"Error fetching paper details: {e}\")\n",
    "        return []\n",
    "    \n",
    "\"\"\"Parse XML data from PubMed and extract paper details.\"\"\"\n",
    "def parse_xml(xml_data: str) -> List[Dict[str, Optional[str]]]:\n",
    "    root = ET.fromstring(xml_data)\n",
    "    papers = []\n",
    "    \n",
    "    for article in root.findall(\".//PubmedArticle\"):\n",
    "        paper: Dict[str, Optional[str]] = {}\n",
    "        paper[\"PMID\"] = article.findtext(\".//PMID\")\n",
    "        paper[\"Title\"] = article.findtext(\".//ArticleTitle\")\n",
    "        paper[\"Date\"] = None\n",
    "        paper[\"Authors\"] = []\n",
    "        paper[\"Companies\"] = []\n",
    "        paper[\"Email\"] = None\n",
    "\n",
    "        # Extract publication date\n",
    "        date = article.find(\".//PubDate\")\n",
    "        if date is not None:\n",
    "            year = date.findtext(\"Year\")\n",
    "            month = date.findtext(\"Month\")\n",
    "            day = date.findtext(\"Day\")\n",
    "            if year and month and day:\n",
    "                paper[\"Date\"] = f\"{year}-{month}-{day}\"\n",
    "\n",
    "        # Extract authors and affiliations\n",
    "        authors = article.findall(\".//Author\")\n",
    "        for author in authors:\n",
    "            affiliation = author.findtext(\"AffiliationInfo/Affiliation\")\n",
    "            if affiliation and not re.search(r\"university|institute\", affiliation, re.IGNORECASE):\n",
    "                paper[\"Authors\"].append(author.findtext(\"LastName\"))\n",
    "                paper[\"Companies\"].append(affiliation)\n",
    "\n",
    "        # Extract corresponding author email\n",
    "        corresponding = article.find(\".//Author[CorrespondingAuthor='Y']\")\n",
    "        if corresponding is not None:\n",
    "            email = corresponding.findtext(\"AffiliationInfo/AuthorEmail\")\n",
    "            if email:\n",
    "                paper[\"Email\"] = email\n",
    "        \n",
    "        papers.append(paper)\n",
    "    \n",
    "    return papers\n",
    "\n",
    "\"\"\"Save the paper details to a CSV file.\"\"\"\n",
    "def save_csv(filename: str, papers: List[Dict[str, Optional[str]]]) -> None:\n",
    "    with open(filename, mode='w', newline='', encoding=\"utf-8\") as file:\n",
    "        writer = csv.DictWriter(file, fieldnames=[\"PMID\", \"Title\", \"Date\", \"Authors\", \"Companies\", \"Email\"])\n",
    "        writer.writeheader()\n",
    "        for paper in papers:\n",
    "            writer.writerow({\n",
    "                \"PMID\": paper[\"PMID\"],\n",
    "                \"Title\": paper[\"Title\"],\n",
    "                \"Date\": paper[\"Date\"],\n",
    "                \"Authors\": \"; \".join(paper[\"Authors\"]),\n",
    "                \"Companies\": \"; \".join(paper[\"Companies\"]),\n",
    "                \"Email\": paper[\"Email\"]\n",
    "            })\n"
   ]
  },
  {
   "cell_type": "markdown",
   "id": "242080eb",
   "metadata": {},
   "source": [
    "cli.py\n"
   ]
  },
  {
   "cell_type": "code",
   "execution_count": null,
   "id": "9e8ae2a2",
   "metadata": {},
   "outputs": [],
   "source": [
    "import argparse\n",
    "import logging\n",
    "from pubmed_fetcher import fetch_ids, get_paper_details, save_csv\n",
    "from typing import Optional\n",
    "\n",
    "\"\"\"Set up logging configuration.\"\"\"\n",
    "def setup_logging(debug: bool) -> None:\n",
    "    if debug:\n",
    "        logging.basicConfig(level=logging.DEBUG)\n",
    "    else:\n",
    "        logging.basicConfig(level=logging.INFO)\n",
    "\n",
    "    \"\"\"Main entry point for the script. Handles command-line arguments.\"\"\"\n",
    "def main() -> None:\n",
    "    parser = argparse.ArgumentParser(description=\"Fetch papers from PubMed based on a query.\")\n",
    "    parser.add_argument(\"query\", type=str, help=\"PubMed search query\")\n",
    "    parser.add_argument(\"-f\", \"--file\", type=str, help=\"File to save results\", default=None)\n",
    "    parser.add_argument(\"-d\", \"--debug\", action=\"store_true\", help=\"Enable debug mode\")\n",
    "    args = parser.parse_args()\n",
    "\n",
    "    if not args.query:\n",
    "        print(\"Error: Query is missing!\")\n",
    "        return\n",
    "\n",
    "    setup_logging(args.debug)\n",
    "    \n",
    "    logging.debug(f\"Fetching papers for query: {args.query}\")\n",
    "    \n",
    "    pubmed_ids = fetch_ids(args.query)\n",
    "    if len(pubmed_ids) == 0:\n",
    "        print(\"No papers found.\")\n",
    "        return\n",
    "    \n",
    "    papers = get_paper_details(pubmed_ids)\n",
    "\n",
    "    if args.file:\n",
    "        save_csv(args.file, papers)\n",
    "        print(f\"Results saved in {args.file}\")\n",
    "    else:\n",
    "        for paper in papers:\n",
    "            print(paper)\n",
    "\n",
    "if __name__ == \"__main__\":\n",
    "    main()\n"
   ]
  }
 ],
 "metadata": {
  "language_info": {
   "name": "python"
  }
 },
 "nbformat": 4,
 "nbformat_minor": 5
}
